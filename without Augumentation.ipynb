{
 "cells": [
  {
   "cell_type": "code",
   "execution_count": 21,
   "id": "380d9685",
   "metadata": {},
   "outputs": [],
   "source": [
    "#Importing necessary libraries\n",
    "import os\n",
    "import numpy as np\n",
    "import pandas as pd\n",
    "import matplotlib.pyplot as plt\n",
    "import seaborn as sns\n",
    "# Tensorflow modules\n",
    "import tensorflow as tf\n",
    "from tensorflow.keras.preprocessing.image import ImageDataGenerator\n",
    "from tensorflow.keras.models import Sequential\n",
    "from tensorflow.keras.layers import Dense,Dropout,Flatten,Conv2D,MaxPooling2D,BatchNormalization\n",
    "from tensorflow.keras.optimizers import Adam, RMSprop\n",
    "from sklearn import preprocessing\n",
    "from sklearn.metrics import confusion_matrix, classification_report\n",
    "\n",
    "# define early stopping layer\n",
    "from tensorflow.keras.callbacks import EarlyStopping, ModelCheckpoint\n",
    "\n",
    "import warnings\n",
    "warnings.filterwarnings('ignore')"
   ]
  },
  {
   "cell_type": "code",
   "execution_count": 22,
   "id": "e8d2bdda",
   "metadata": {},
   "outputs": [],
   "source": [
    "train_dir ='Dataset/seg_train/seg_train'\n",
    "test_dir ='Dataset/seg_test/seg_test'"
   ]
  },
  {
   "cell_type": "code",
   "execution_count": 23,
   "id": "8c16e58e",
   "metadata": {},
   "outputs": [],
   "source": [
    "batch_size =32\n",
    "image_size = (150,150)\n",
    "epoch=30"
   ]
  },
  {
   "cell_type": "code",
   "execution_count": 24,
   "id": "62c24486",
   "metadata": {},
   "outputs": [
    {
     "name": "stdout",
     "output_type": "stream",
     "text": [
      "Found 14034 files belonging to 6 classes.\n",
      "Found 3000 files belonging to 6 classes.\n"
     ]
    }
   ],
   "source": [
    "train_ds = tf.keras.utils.image_dataset_from_directory(\n",
    "  train_dir,\n",
    "  seed=123,\n",
    "  image_size=image_size,\n",
    "  batch_size=batch_size, )\n",
    "\n",
    "test_ds = tf.keras.utils.image_dataset_from_directory(\n",
    "  test_dir,\n",
    "  seed=123,\n",
    "  image_size=image_size,\n",
    "  batch_size=batch_size)"
   ]
  },
  {
   "cell_type": "code",
   "execution_count": 25,
   "id": "3113ecf5",
   "metadata": {},
   "outputs": [],
   "source": [
    "from tensorflow.keras import layers"
   ]
  },
  {
   "cell_type": "code",
   "execution_count": null,
   "id": "93db2c20",
   "metadata": {},
   "outputs": [],
   "source": []
  },
  {
   "cell_type": "code",
   "execution_count": 26,
   "id": "a594805e",
   "metadata": {},
   "outputs": [
    {
     "name": "stdout",
     "output_type": "stream",
     "text": [
      "Model: \"sequential_2\"\n",
      "_________________________________________________________________\n",
      " Layer (type)                Output Shape              Param #   \n",
      "=================================================================\n",
      " conv2d_8 (Conv2D)           (None, 148, 148, 32)      896       \n",
      "                                                                 \n",
      " max_pooling2d_8 (MaxPooling  (None, 74, 74, 32)       0         \n",
      " 2D)                                                             \n",
      "                                                                 \n",
      " conv2d_9 (Conv2D)           (None, 72, 72, 64)        18496     \n",
      "                                                                 \n",
      " max_pooling2d_9 (MaxPooling  (None, 36, 36, 64)       0         \n",
      " 2D)                                                             \n",
      "                                                                 \n",
      " conv2d_10 (Conv2D)          (None, 34, 34, 128)       73856     \n",
      "                                                                 \n",
      " max_pooling2d_10 (MaxPoolin  (None, 17, 17, 128)      0         \n",
      " g2D)                                                            \n",
      "                                                                 \n",
      " conv2d_11 (Conv2D)          (None, 15, 15, 256)       295168    \n",
      "                                                                 \n",
      " max_pooling2d_11 (MaxPoolin  (None, 7, 7, 256)        0         \n",
      " g2D)                                                            \n",
      "                                                                 \n",
      " flatten_2 (Flatten)         (None, 12544)             0         \n",
      "                                                                 \n",
      " dense_4 (Dense)             (None, 256)               3211520   \n",
      "                                                                 \n",
      " dropout_2 (Dropout)         (None, 256)               0         \n",
      "                                                                 \n",
      " dense_5 (Dense)             (None, 6)                 1542      \n",
      "                                                                 \n",
      "=================================================================\n",
      "Total params: 3,601,478\n",
      "Trainable params: 3,601,478\n",
      "Non-trainable params: 0\n",
      "_________________________________________________________________\n"
     ]
    }
   ],
   "source": [
    "model = Sequential()\n",
    "model.add(Conv2D(32, (3,3), input_shape = (150,150, 3), ))\n",
    "model.add(MaxPooling2D())\n",
    "model.add(Conv2D(64, (3,3), activation = 'relu'))\n",
    "model.add(MaxPooling2D())\n",
    "\n",
    "model.add(Conv2D(128, (3,3), activation = 'relu')) \n",
    "model.add(MaxPooling2D())\n",
    "\n",
    "model.add(Conv2D(256, (3,3), activation = 'relu')) \n",
    "model.add(MaxPooling2D())\n",
    "\n",
    "model.add(Flatten())\n",
    "\n",
    "model.add(Dense(256, activation='relu'))\n",
    "model.add(Dropout(0.3))\n",
    "model.add(Dense(6, activation = 'softmax'))\n",
    "\n",
    "model.compile(optimizer = 'adam', loss='sparse_categorical_crossentropy', metrics=['accuracy'])\n",
    "\n",
    "model.summary()"
   ]
  },
  {
   "cell_type": "code",
   "execution_count": 27,
   "id": "94fc55b0",
   "metadata": {},
   "outputs": [],
   "source": [
    "filename='Models/Basemodel.hdf5'\n",
    "\n",
    "es=EarlyStopping(monitor='val_loss', patience=3, mode='min', verbose=1)\n",
    "# Create learning rate scheduler callback\n",
    "lr_scheduler = tf.keras.callbacks.ReduceLROnPlateau(factor=0.2, patience=2, monitor='loss', verbose=1, min_lr = 0.000001)\n",
    "chkpt=ModelCheckpoint(filename, verbose=1, save_best_only =True)"
   ]
  },
  {
   "cell_type": "code",
   "execution_count": 28,
   "id": "b1231f8b",
   "metadata": {},
   "outputs": [
    {
     "name": "stdout",
     "output_type": "stream",
     "text": [
      "Epoch 1/30\n",
      "436/439 [============================>.] - ETA: 0s - loss: 2.4170 - accuracy: 0.5500\n",
      "Epoch 1: val_loss improved from inf to 0.99264, saving model to Models\\Basemodel.hdf5\n",
      "439/439 [==============================] - 7s 16ms/step - loss: 2.4093 - accuracy: 0.5501 - val_loss: 0.9926 - val_accuracy: 0.6023 - lr: 0.0010\n",
      "Epoch 2/30\n",
      "438/439 [============================>.] - ETA: 0s - loss: 0.8691 - accuracy: 0.6693\n",
      "Epoch 2: val_loss improved from 0.99264 to 0.86177, saving model to Models\\Basemodel.hdf5\n",
      "439/439 [==============================] - 7s 16ms/step - loss: 0.8689 - accuracy: 0.6694 - val_loss: 0.8618 - val_accuracy: 0.6887 - lr: 0.0010\n",
      "Epoch 3/30\n",
      "438/439 [============================>.] - ETA: 0s - loss: 0.7339 - accuracy: 0.7282\n",
      "Epoch 3: val_loss improved from 0.86177 to 0.77258, saving model to Models\\Basemodel.hdf5\n",
      "439/439 [==============================] - 7s 16ms/step - loss: 0.7347 - accuracy: 0.7279 - val_loss: 0.7726 - val_accuracy: 0.7233 - lr: 0.0010\n",
      "Epoch 4/30\n",
      "435/439 [============================>.] - ETA: 0s - loss: 0.6737 - accuracy: 0.7551\n",
      "Epoch 4: val_loss did not improve from 0.77258\n",
      "439/439 [==============================] - 7s 16ms/step - loss: 0.6719 - accuracy: 0.7556 - val_loss: 0.8170 - val_accuracy: 0.7100 - lr: 0.0010\n",
      "Epoch 5/30\n",
      "434/439 [============================>.] - ETA: 0s - loss: 0.5858 - accuracy: 0.7844\n",
      "Epoch 5: val_loss did not improve from 0.77258\n",
      "439/439 [==============================] - 7s 16ms/step - loss: 0.5838 - accuracy: 0.7849 - val_loss: 0.7900 - val_accuracy: 0.7370 - lr: 0.0010\n",
      "Epoch 6/30\n",
      "436/439 [============================>.] - ETA: 0s - loss: 0.5707 - accuracy: 0.7935\n",
      "Epoch 6: val_loss improved from 0.77258 to 0.67267, saving model to Models\\Basemodel.hdf5\n",
      "439/439 [==============================] - 7s 16ms/step - loss: 0.5697 - accuracy: 0.7938 - val_loss: 0.6727 - val_accuracy: 0.7780 - lr: 0.0010\n",
      "Epoch 7/30\n",
      "435/439 [============================>.] - ETA: 0s - loss: 0.5032 - accuracy: 0.8205\n",
      "Epoch 7: val_loss did not improve from 0.67267\n",
      "439/439 [==============================] - 7s 15ms/step - loss: 0.5017 - accuracy: 0.8209 - val_loss: 0.7643 - val_accuracy: 0.7780 - lr: 0.0010\n",
      "Epoch 8/30\n",
      "437/439 [============================>.] - ETA: 0s - loss: 0.4660 - accuracy: 0.8337\n",
      "Epoch 8: val_loss did not improve from 0.67267\n",
      "439/439 [==============================] - 7s 15ms/step - loss: 0.4655 - accuracy: 0.8338 - val_loss: 0.7055 - val_accuracy: 0.7853 - lr: 0.0010\n",
      "Epoch 9/30\n",
      "433/439 [============================>.] - ETA: 0s - loss: 0.4167 - accuracy: 0.8492\n",
      "Epoch 9: val_loss did not improve from 0.67267\n",
      "439/439 [==============================] - 7s 15ms/step - loss: 0.4149 - accuracy: 0.8499 - val_loss: 0.7348 - val_accuracy: 0.7937 - lr: 0.0010\n",
      "Epoch 9: early stopping\n"
     ]
    }
   ],
   "source": [
    "#train the network\n",
    "hist1 =model.fit(train_ds, validation_data=test_ds, epochs=epoch,callbacks=[chkpt, es, lr_scheduler], verbose=1 )"
   ]
  },
  {
   "cell_type": "code",
   "execution_count": 29,
   "id": "04dad2f7",
   "metadata": {},
   "outputs": [
    {
     "data": {
      "text/html": [
       "<div>\n",
       "<style scoped>\n",
       "    .dataframe tbody tr th:only-of-type {\n",
       "        vertical-align: middle;\n",
       "    }\n",
       "\n",
       "    .dataframe tbody tr th {\n",
       "        vertical-align: top;\n",
       "    }\n",
       "\n",
       "    .dataframe thead th {\n",
       "        text-align: right;\n",
       "    }\n",
       "</style>\n",
       "<table border=\"1\" class=\"dataframe\">\n",
       "  <thead>\n",
       "    <tr style=\"text-align: right;\">\n",
       "      <th></th>\n",
       "      <th>loss</th>\n",
       "      <th>accuracy</th>\n",
       "      <th>val_loss</th>\n",
       "      <th>val_accuracy</th>\n",
       "      <th>lr</th>\n",
       "      <th>epochs</th>\n",
       "    </tr>\n",
       "  </thead>\n",
       "  <tbody>\n",
       "    <tr>\n",
       "      <th>0</th>\n",
       "      <td>2.409348</td>\n",
       "      <td>0.550093</td>\n",
       "      <td>0.992640</td>\n",
       "      <td>0.602333</td>\n",
       "      <td>0.001</td>\n",
       "      <td>0</td>\n",
       "    </tr>\n",
       "    <tr>\n",
       "      <th>1</th>\n",
       "      <td>0.868905</td>\n",
       "      <td>0.669446</td>\n",
       "      <td>0.861767</td>\n",
       "      <td>0.688667</td>\n",
       "      <td>0.001</td>\n",
       "      <td>1</td>\n",
       "    </tr>\n",
       "    <tr>\n",
       "      <th>2</th>\n",
       "      <td>0.734746</td>\n",
       "      <td>0.727875</td>\n",
       "      <td>0.772583</td>\n",
       "      <td>0.723333</td>\n",
       "      <td>0.001</td>\n",
       "      <td>2</td>\n",
       "    </tr>\n",
       "    <tr>\n",
       "      <th>3</th>\n",
       "      <td>0.671922</td>\n",
       "      <td>0.755594</td>\n",
       "      <td>0.816978</td>\n",
       "      <td>0.710000</td>\n",
       "      <td>0.001</td>\n",
       "      <td>3</td>\n",
       "    </tr>\n",
       "    <tr>\n",
       "      <th>4</th>\n",
       "      <td>0.583799</td>\n",
       "      <td>0.784880</td>\n",
       "      <td>0.790020</td>\n",
       "      <td>0.737000</td>\n",
       "      <td>0.001</td>\n",
       "      <td>4</td>\n",
       "    </tr>\n",
       "    <tr>\n",
       "      <th>5</th>\n",
       "      <td>0.569652</td>\n",
       "      <td>0.793787</td>\n",
       "      <td>0.672668</td>\n",
       "      <td>0.778000</td>\n",
       "      <td>0.001</td>\n",
       "      <td>5</td>\n",
       "    </tr>\n",
       "    <tr>\n",
       "      <th>6</th>\n",
       "      <td>0.501730</td>\n",
       "      <td>0.820864</td>\n",
       "      <td>0.764279</td>\n",
       "      <td>0.778000</td>\n",
       "      <td>0.001</td>\n",
       "      <td>6</td>\n",
       "    </tr>\n",
       "    <tr>\n",
       "      <th>7</th>\n",
       "      <td>0.465457</td>\n",
       "      <td>0.833761</td>\n",
       "      <td>0.705528</td>\n",
       "      <td>0.785333</td>\n",
       "      <td>0.001</td>\n",
       "      <td>7</td>\n",
       "    </tr>\n",
       "    <tr>\n",
       "      <th>8</th>\n",
       "      <td>0.414881</td>\n",
       "      <td>0.849936</td>\n",
       "      <td>0.734810</td>\n",
       "      <td>0.793667</td>\n",
       "      <td>0.001</td>\n",
       "      <td>8</td>\n",
       "    </tr>\n",
       "  </tbody>\n",
       "</table>\n",
       "</div>"
      ],
      "text/plain": [
       "       loss  accuracy  val_loss  val_accuracy     lr  epochs\n",
       "0  2.409348  0.550093  0.992640      0.602333  0.001       0\n",
       "1  0.868905  0.669446  0.861767      0.688667  0.001       1\n",
       "2  0.734746  0.727875  0.772583      0.723333  0.001       2\n",
       "3  0.671922  0.755594  0.816978      0.710000  0.001       3\n",
       "4  0.583799  0.784880  0.790020      0.737000  0.001       4\n",
       "5  0.569652  0.793787  0.672668      0.778000  0.001       5\n",
       "6  0.501730  0.820864  0.764279      0.778000  0.001       6\n",
       "7  0.465457  0.833761  0.705528      0.785333  0.001       7\n",
       "8  0.414881  0.849936  0.734810      0.793667  0.001       8"
      ]
     },
     "execution_count": 29,
     "metadata": {},
     "output_type": "execute_result"
    }
   ],
   "source": [
    "df1=pd.DataFrame(hist1.history)\n",
    "df1['epochs']=hist1.epoch\n",
    "df1"
   ]
  },
  {
   "cell_type": "code",
   "execution_count": 30,
   "id": "ef4f5136",
   "metadata": {},
   "outputs": [
    {
     "data": {
      "text/plain": [
       "Text(0, 0.5, 'loss')"
      ]
     },
     "execution_count": 30,
     "metadata": {},
     "output_type": "execute_result"
    },
    {
     "data": {
      "image/png": "[encoded data removed]",
      "text/plain": [
       "<Figure size 640x480 with 1 Axes>"
      ]
     },
     "metadata": {},
     "output_type": "display_data"
    }
   ],
   "source": [
    "#visualize the model performance\n",
    "import matplotlib.pyplot as plt\n",
    "plt.plot(df1['loss'], label ='Training')\n",
    "plt.plot(df1['val_loss'], label ='Validation')\n",
    "plt.legend(loc='best')\n",
    "plt.xlabel('epoch')\n",
    "plt.ylabel('loss')"
   ]
  },
  {
   "cell_type": "code",
   "execution_count": 31,
   "id": "054a81cc",
   "metadata": {},
   "outputs": [
    {
     "name": "stdout",
     "output_type": "stream",
     "text": [
      "94/94 [==============================] - 2s 15ms/step - loss: 0.7348 - accuracy: 0.7937\n"
     ]
    },
    {
     "data": {
      "text/plain": [
       "[0.7348102927207947, 0.793666660785675]"
      ]
     },
     "execution_count": 31,
     "metadata": {},
     "output_type": "execute_result"
    }
   ],
   "source": [
    "model.evaluate(test_ds)"
   ]
  },
  {
   "cell_type": "code",
   "execution_count": 12,
   "id": "7f8c4b5e",
   "metadata": {},
   "outputs": [
    {
     "name": "stdout",
     "output_type": "stream",
     "text": [
      "94/94 [==============================] - 1s 10ms/step\n",
      "Predicted classes: [1 5 0 ... 4 2 3]\n"
     ]
    },
    {
     "ename": "AttributeError",
     "evalue": "'BatchDataset' object has no attribute 'classes'",
     "output_type": "error",
     "traceback": [
      "\u001b[1;31m---------------------------------------------------------------------------\u001b[0m",
      "\u001b[1;31mAttributeError\u001b[0m                            Traceback (most recent call last)",
      "Input \u001b[1;32mIn [12]\u001b[0m, in \u001b[0;36m<cell line: 8>\u001b[1;34m()\u001b[0m\n\u001b[0;32m      5\u001b[0m predicted_classes \u001b[38;5;241m=\u001b[39m np\u001b[38;5;241m.\u001b[39margmax(predictions, axis\u001b[38;5;241m=\u001b[39m\u001b[38;5;241m1\u001b[39m)\n\u001b[0;32m      7\u001b[0m \u001b[38;5;28mprint\u001b[39m(\u001b[38;5;124m'\u001b[39m\u001b[38;5;124mPredicted classes:\u001b[39m\u001b[38;5;124m'\u001b[39m, predicted_classes)\n\u001b[1;32m----> 8\u001b[0m \u001b[38;5;28mprint\u001b[39m(\u001b[38;5;124m'\u001b[39m\u001b[38;5;124mTrue labels:\u001b[39m\u001b[38;5;124m'\u001b[39m, \u001b[43mtest_ds\u001b[49m\u001b[38;5;241;43m.\u001b[39;49m\u001b[43mclasses\u001b[49m)\n",
      "\u001b[1;31mAttributeError\u001b[0m: 'BatchDataset' object has no attribute 'classes'"
     ]
    }
   ],
   "source": [
    "import numpy as np\n",
    "predictions = model.predict(test_ds)\n",
    "\n",
    "# Get the predicted class for each image\n",
    "predicted_classes = np.argmax(predictions, axis=1)\n",
    "\n",
    "print('Predicted classes:', predicted_classes)\n",
    "print('True labels:', test_ds.classes)"
   ]
  },
  {
   "cell_type": "code",
   "execution_count": 13,
   "id": "ad51be37",
   "metadata": {},
   "outputs": [
    {
     "ename": "NameError",
     "evalue": "name 'test_generator' is not defined",
     "output_type": "error",
     "traceback": [
      "\u001b[1;31m---------------------------------------------------------------------------\u001b[0m",
      "\u001b[1;31mNameError\u001b[0m                                 Traceback (most recent call last)",
      "Input \u001b[1;32mIn [13]\u001b[0m, in \u001b[0;36m<cell line: 2>\u001b[1;34m()\u001b[0m\n\u001b[0;32m      1\u001b[0m \u001b[38;5;28;01mfrom\u001b[39;00m \u001b[38;5;21;01msklearn\u001b[39;00m\u001b[38;5;21;01m.\u001b[39;00m\u001b[38;5;21;01mmetrics\u001b[39;00m \u001b[38;5;28;01mimport\u001b[39;00m classification_report, confusion_matrix, accuracy_score\n\u001b[1;32m----> 2\u001b[0m \u001b[38;5;28mprint\u001b[39m(\u001b[38;5;124m'\u001b[39m\u001b[38;5;124mAccuracy:\u001b[39m\u001b[38;5;130;01m\\n\u001b[39;00m\u001b[38;5;124m'\u001b[39m, accuracy_score(\u001b[43mtest_generator\u001b[49m\u001b[38;5;241m.\u001b[39mclasses, predicted_classes))\n",
      "\u001b[1;31mNameError\u001b[0m: name 'test_generator' is not defined"
     ]
    }
   ],
   "source": [
    "from sklearn.metrics import classification_report, confusion_matrix, accuracy_score\n",
    "print('Accuracy:\\n', accuracy_score(test_generator.classes, predicted_classes))"
   ]
  },
  {
   "cell_type": "code",
   "execution_count": null,
   "id": "c8abaf36",
   "metadata": {},
   "outputs": [],
   "source": [
    "print('Classification Report:\\n', classification_report(test_generator.classes, predicted_classes))"
   ]
  },
  {
   "cell_type": "code",
   "execution_count": null,
   "id": "e3f8b875",
   "metadata": {},
   "outputs": [],
   "source": [
    "tf.keras.utils.plot_model(model, to_file='model.png', show_shapes=True, show_layer_names=True,show_dtype=True,dpi=120)"
   ]
  }
 ],
 "metadata": {
  "kernelspec": {
   "display_name": "Python 3 (ipykernel)",
   "language": "python",
   "name": "python3"
  },
  "language_info": {
   "codemirror_mode": {
    "name": "ipython",
    "version": 3
   },
   "file_extension": ".py",
   "mimetype": "text/x-python",
   "name": "python",
   "nbconvert_exporter": "python",
   "pygments_lexer": "ipython3",
   "version": "3.10.6"
  }
 },
 "nbformat": 4,
 "nbformat_minor": 5
}
